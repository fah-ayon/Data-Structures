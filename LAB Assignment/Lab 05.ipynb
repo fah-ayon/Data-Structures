{
  "nbformat": 4,
  "nbformat_minor": 0,
  "metadata": {
    "colab": {
      "provenance": []
    },
    "kernelspec": {
      "name": "python3",
      "display_name": "Python 3"
    },
    "language_info": {
      "name": "python"
    }
  },
  "cells": [
    {
      "cell_type": "code",
      "execution_count": 11,
      "metadata": {
        "colab": {
          "base_uri": "https://localhost:8080/"
        },
        "id": "eFkFVQEGm7DT",
        "outputId": "1371388c-49ce-4db8-81f0-26ec1dab391b"
      },
      "outputs": [
        {
          "output_type": "stream",
          "name": "stdout",
          "text": [
            "1+2*[3*3+{4–5(6(7/8/9)+10)}–11+(12*8)/{13+13}]+14\n",
            "This expression is correct.\n"
          ]
        }
      ],
      "source": [
        "#task 1\n",
        "class Stack:\n",
        "    def __init__(self):\n",
        "        self.items = []\n",
        "        \n",
        "    def push(self, item):\n",
        "        self.items.append(item)\n",
        "        \n",
        "    def pop(self):\n",
        "        if not self.is_empty():\n",
        "            return self.items.pop()\n",
        "        \n",
        "    def peek(self):\n",
        "        if not self.is_empty():\n",
        "            return self.items[-1]\n",
        "        \n",
        "    def is_empty(self):\n",
        "        return len(self.items) == 0\n",
        "        \n",
        "def check_expression(s):\n",
        "    stack = Stack()\n",
        "    brackets = {\"(\": \")\", \"[\": \"]\", \"{\": \"}\"}\n",
        "    for i, char in enumerate(s):\n",
        "        if char in brackets:\n",
        "            stack.push((char, i))\n",
        "        elif char in brackets.values():\n",
        "            if stack.is_empty():\n",
        "                print(\"This expression is NOT correct.\\nError at character # {}. '{}' - not opened.\".format(i, char))\n",
        "                return\n",
        "            top, pos = stack.pop()\n",
        "            if char != brackets[top]:\n",
        "                print(\"This expression is NOT correct.\\nError at character # {}. '{}' - not closed.\".format(pos, top))\n",
        "                return\n",
        "    if stack.is_empty():\n",
        "        print(\"This expression is correct.\")\n",
        "    else:\n",
        "        top, pos = stack.pop()\n",
        "        print(\"This expression is NOT correct.\\nError at character # {}. '{}' - not closed.\".format(pos, top))\n",
        "\n",
        "s = '1+2*[3*3+{4–5(6(7/8/9)+10)}–11+(12*8)/{13+13}]+14'\n",
        "print(s)\n",
        "check_expression(s)\n"
      ]
    },
    {
      "cell_type": "code",
      "source": [
        "#task 2\n",
        "class Node:\n",
        "    def __init__(self, data):\n",
        "        self.data = data\n",
        "        self.next = None\n",
        "        \n",
        "class Stack:\n",
        "    def __init__(self):\n",
        "        self.head = None\n",
        "        \n",
        "    def push(self, data):\n",
        "        new_node = Node(data)\n",
        "        new_node.next = self.head\n",
        "        self.head = new_node\n",
        "        \n",
        "    def pop(self):\n",
        "        if self.is_empty():\n",
        "            return None\n",
        "        temp = self.head\n",
        "        self.head = self.head.next\n",
        "        return temp.data\n",
        "        \n",
        "    def peek(self):\n",
        "        if self.is_empty():\n",
        "            return None\n",
        "        return self.head.data\n",
        "        \n",
        "    def is_empty(self):\n",
        "        return self.head is None\n",
        "        \n",
        "    def check_expression(s):\n",
        "        stack = Stack()\n",
        "        brackets = {\"(\": \")\", \"[\": \"]\", \"{\": \"}\"}\n",
        "        for i, char in enumerate(s):\n",
        "            if char in brackets:\n",
        "                stack.push((char, i))\n",
        "            elif char in brackets.values():\n",
        "                if stack.is_empty():\n",
        "                    print(f\"This expression is NOT correct.\\nError at character # {i}. '{char}' - not opened.\")\n",
        "                    return\n",
        "                top, pos = stack.pop()\n",
        "                if char != brackets[top]:\n",
        "                    print(f\"This expression is NOT correct.\\nError at character # {pos}. '{top}' - not closed.\")\n",
        "                    return\n",
        "        if stack.is_empty():\n",
        "            print(\"This expression is correct.\")\n",
        "        else:\n",
        "            top, pos = stack.pop()\n",
        "            print(f\"This expression is NOT correct.\\nError at character # {pos}. '{top}' - not closed.\")\n",
        "\n",
        "s = '1+2*[3*3+{4–5(6(7/8/9)+10)}–11+(12*8)/{13+13}]+14'\n",
        "\n",
        "print(s)\n",
        "check_expression(s)\n",
        "\n"
      ],
      "metadata": {
        "colab": {
          "base_uri": "https://localhost:8080/"
        },
        "id": "wDnoN_XuqRkw",
        "outputId": "03408e80-f1f1-4713-bb3f-a4b51dc7d82e"
      },
      "execution_count": 10,
      "outputs": [
        {
          "output_type": "stream",
          "name": "stdout",
          "text": [
            "1+2*[3*3+{4–5(6(7/8/9)+10)}–11+(12*8)/{13+13}]+14\n",
            "This expression is correct.\n"
          ]
        }
      ]
    }
  ]
}